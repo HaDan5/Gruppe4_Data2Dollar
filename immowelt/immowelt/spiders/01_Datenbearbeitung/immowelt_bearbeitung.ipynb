{
 "cells": [
  {
   "cell_type": "markdown",
   "metadata": {},
   "source": [
    "# Bereinigung der Immowelt-Daten"
   ]
  },
  {
   "cell_type": "code",
   "execution_count": 1,
   "metadata": {},
   "outputs": [],
   "source": [
    "# Importieren der benötigten Bibliotheken\n",
    "import pandas as pd\n",
    "import numpy as np"
   ]
  },
  {
   "cell_type": "code",
   "execution_count": 2,
   "metadata": {
    "scrolled": true
   },
   "outputs": [],
   "source": [
    "# Datensatz importieren\n",
    "immowelt = pd.read_csv('immowelt_raw.csv')"
   ]
  },
  {
   "cell_type": "code",
   "execution_count": 3,
   "metadata": {},
   "outputs": [
    {
     "data": {
      "text/html": [
       "<div>\n",
       "<style scoped>\n",
       "    .dataframe tbody tr th:only-of-type {\n",
       "        vertical-align: middle;\n",
       "    }\n",
       "\n",
       "    .dataframe tbody tr th {\n",
       "        vertical-align: top;\n",
       "    }\n",
       "\n",
       "    .dataframe thead th {\n",
       "        text-align: right;\n",
       "    }\n",
       "</style>\n",
       "<table border=\"1\" class=\"dataframe\">\n",
       "  <thead>\n",
       "    <tr style=\"text-align: right;\">\n",
       "      <th></th>\n",
       "      <th>Count</th>\n",
       "      <th>ID</th>\n",
       "      <th>Name</th>\n",
       "      <th>Standort</th>\n",
       "      <th>Kaltmiete</th>\n",
       "      <th>Warmmiete</th>\n",
       "      <th>Wohnfläche</th>\n",
       "      <th>Zimmer</th>\n",
       "      <th>Baujahr</th>\n",
       "      <th>Merkmale</th>\n",
       "      <th>Features</th>\n",
       "      <th>Beschreibung</th>\n",
       "      <th>Lage</th>\n",
       "    </tr>\n",
       "  </thead>\n",
       "  <tbody>\n",
       "    <tr>\n",
       "      <th>0</th>\n",
       "      <td>0</td>\n",
       "      <td>Online-ID: 2Z46947, Referenznummer: 10-00855-...</td>\n",
       "      <td>Günstige 1-Wohnung mit WBS | Etagenwohnung Ber...</td>\n",
       "      <td>13435 Berlin (Märkisches Viertel), Senftenber...</td>\n",
       "      <td>262,02 €,262,02 €</td>\n",
       "      <td>386,64 €</td>\n",
       "      <td>40,31 m²,40,31 m²</td>\n",
       "      <td>1,1</td>\n",
       "      <td>Baujahr 2021</td>\n",
       "      <td>Balkon, Kelleranteil, barrierefrei, Personenau...</td>\n",
       "      <td>&lt;li _ngcontent-serverapp-c66=\"\" class=\"ng-star...</td>\n",
       "      <td>Bei den sechs Gebäuden handelt es sich um paar...</td>\n",
       "      <td>Insgesamt sind mehrere Spiel- und Sportbereich...</td>\n",
       "    </tr>\n",
       "    <tr>\n",
       "      <th>1</th>\n",
       "      <td>1</td>\n",
       "      <td>Online-ID: 2TT4E4T</td>\n",
       "      <td>Komfortable Studentenapartments in Oberschönew...</td>\n",
       "      <td>12459 Berlin (Oberschöneweide), Reinbeckstraß...</td>\n",
       "      <td>268 €,268 €</td>\n",
       "      <td>325 €</td>\n",
       "      <td>15 m²,15 m²</td>\n",
       "      <td>1,1</td>\n",
       "      <td>Baujahr 2012</td>\n",
       "      <td>Balkon, Gartenmitbenutzung, Zentralheizung</td>\n",
       "      <td>&lt;li _ngcontent-serverapp-c66=\"\" class=\"ng-star...</td>\n",
       "      <td>In unserem komfortablen Studentenwohnhaus mit ...</td>\n",
       "      <td>In ruhiger Seitenstraße in Berlin-Oberschönewe...</td>\n",
       "    </tr>\n",
       "    <tr>\n",
       "      <th>2</th>\n",
       "      <td>2</td>\n",
       "      <td>Online-ID: 2ZZ5947, Referenznummer: 10-00855-...</td>\n",
       "      <td>Seniorengerechte 1-Zimmer-Wohnung im Erstbezug...</td>\n",
       "      <td>13435 Berlin (Märkisches Viertel), Senftenber...</td>\n",
       "      <td>278,66 €,278,66 €</td>\n",
       "      <td>410,94 €</td>\n",
       "      <td>42,87 m²,42,87 m²</td>\n",
       "      <td>1,1</td>\n",
       "      <td>Baujahr 2021</td>\n",
       "      <td>Balkon, Kelleranteil, barrierefrei, seniorenge...</td>\n",
       "      <td>&lt;li _ngcontent-serverapp-c66=\"\" class=\"ng-star...</td>\n",
       "      <td>Bei den sechs Gebäuden handelt es sich um paar...</td>\n",
       "      <td>Insgesamt sind mehrere Spiel- und Sportbereich...</td>\n",
       "    </tr>\n",
       "    <tr>\n",
       "      <th>3</th>\n",
       "      <td>3</td>\n",
       "      <td>Online-ID: 2YQU24V</td>\n",
       "      <td>Die Einbauküche ist schon drin - Sie müssen nu...</td>\n",
       "      <td>10117 Berlin (Mitte)</td>\n",
       "      <td>284,62 €,284,62 €</td>\n",
       "      <td>398 €</td>\n",
       "      <td>18 m²,18 m²</td>\n",
       "      <td>1,1</td>\n",
       "      <td>Baujahr 2018</td>\n",
       "      <td>Einbauküche, WG geeignet, Neubau</td>\n",
       "      <td>&lt;li _ngcontent-serverapp-c66=\"\" class=\"ng-star...</td>\n",
       "      <td>Warmmiete 398,00 Euro inkl.:,- STROM,- WLAN,- ...</td>\n",
       "      <td>Die S-Bahn erreichen Sie in 5 Gehminuten.</td>\n",
       "    </tr>\n",
       "    <tr>\n",
       "      <th>4</th>\n",
       "      <td>4</td>\n",
       "      <td>Online-ID: 2YKNJ4Y</td>\n",
       "      <td>3 Zimmer in einer WG zu vermieten - Szenekiez ...</td>\n",
       "      <td>12053 Berlin (Neukölln), Neckarstr. 21b</td>\n",
       "      <td>350 €,350 €</td>\n",
       "      <td>485 €</td>\n",
       "      <td>13 m²,13 m²</td>\n",
       "      <td>1,1</td>\n",
       "      <td>Baujahr 1936</td>\n",
       "      <td>Balkon, Gartenmitbenutzung, Kelleranteil, sani...</td>\n",
       "      <td>&lt;li _ngcontent-serverapp-c66=\"\" class=\"ng-star...</td>\n",
       "      <td>Zur Vermietung steht eine gemütliche und sanie...</td>\n",
       "      <td>Im Zentrum eines Szenekiezes in Neukölln,Der K...</td>\n",
       "    </tr>\n",
       "  </tbody>\n",
       "</table>\n",
       "</div>"
      ],
      "text/plain": [
       "   Count                                                 ID  \\\n",
       "0      0   Online-ID: 2Z46947, Referenznummer: 10-00855-...   \n",
       "1      1                                 Online-ID: 2TT4E4T   \n",
       "2      2   Online-ID: 2ZZ5947, Referenznummer: 10-00855-...   \n",
       "3      3                                 Online-ID: 2YQU24V   \n",
       "4      4                                 Online-ID: 2YKNJ4Y   \n",
       "\n",
       "                                                Name  \\\n",
       "0  Günstige 1-Wohnung mit WBS | Etagenwohnung Ber...   \n",
       "1  Komfortable Studentenapartments in Oberschönew...   \n",
       "2  Seniorengerechte 1-Zimmer-Wohnung im Erstbezug...   \n",
       "3  Die Einbauküche ist schon drin - Sie müssen nu...   \n",
       "4  3 Zimmer in einer WG zu vermieten - Szenekiez ...   \n",
       "\n",
       "                                            Standort          Kaltmiete  \\\n",
       "0   13435 Berlin (Märkisches Viertel), Senftenber...  262,02 €,262,02 €   \n",
       "1   12459 Berlin (Oberschöneweide), Reinbeckstraß...        268 €,268 €   \n",
       "2   13435 Berlin (Märkisches Viertel), Senftenber...  278,66 €,278,66 €   \n",
       "3                              10117 Berlin (Mitte)   284,62 €,284,62 €   \n",
       "4           12053 Berlin (Neukölln), Neckarstr. 21b         350 €,350 €   \n",
       "\n",
       "  Warmmiete         Wohnfläche Zimmer       Baujahr  \\\n",
       "0  386,64 €  40,31 m²,40,31 m²    1,1  Baujahr 2021   \n",
       "1     325 €        15 m²,15 m²    1,1  Baujahr 2012   \n",
       "2  410,94 €  42,87 m²,42,87 m²    1,1  Baujahr 2021   \n",
       "3     398 €        18 m²,18 m²    1,1  Baujahr 2018   \n",
       "4     485 €        13 m²,13 m²    1,1  Baujahr 1936   \n",
       "\n",
       "                                            Merkmale  \\\n",
       "0  Balkon, Kelleranteil, barrierefrei, Personenau...   \n",
       "1         Balkon, Gartenmitbenutzung, Zentralheizung   \n",
       "2  Balkon, Kelleranteil, barrierefrei, seniorenge...   \n",
       "3                   Einbauküche, WG geeignet, Neubau   \n",
       "4  Balkon, Gartenmitbenutzung, Kelleranteil, sani...   \n",
       "\n",
       "                                            Features  \\\n",
       "0  <li _ngcontent-serverapp-c66=\"\" class=\"ng-star...   \n",
       "1  <li _ngcontent-serverapp-c66=\"\" class=\"ng-star...   \n",
       "2  <li _ngcontent-serverapp-c66=\"\" class=\"ng-star...   \n",
       "3  <li _ngcontent-serverapp-c66=\"\" class=\"ng-star...   \n",
       "4  <li _ngcontent-serverapp-c66=\"\" class=\"ng-star...   \n",
       "\n",
       "                                        Beschreibung  \\\n",
       "0  Bei den sechs Gebäuden handelt es sich um paar...   \n",
       "1  In unserem komfortablen Studentenwohnhaus mit ...   \n",
       "2  Bei den sechs Gebäuden handelt es sich um paar...   \n",
       "3  Warmmiete 398,00 Euro inkl.:,- STROM,- WLAN,- ...   \n",
       "4  Zur Vermietung steht eine gemütliche und sanie...   \n",
       "\n",
       "                                                Lage  \n",
       "0  Insgesamt sind mehrere Spiel- und Sportbereich...  \n",
       "1  In ruhiger Seitenstraße in Berlin-Oberschönewe...  \n",
       "2  Insgesamt sind mehrere Spiel- und Sportbereich...  \n",
       "3          Die S-Bahn erreichen Sie in 5 Gehminuten.  \n",
       "4  Im Zentrum eines Szenekiezes in Neukölln,Der K...  "
      ]
     },
     "execution_count": 3,
     "metadata": {},
     "output_type": "execute_result"
    }
   ],
   "source": [
    "# Datensatz anzeigen (erste 5 Instanzen)\n",
    "immowelt.head()"
   ]
  },
  {
   "cell_type": "code",
   "execution_count": 4,
   "metadata": {},
   "outputs": [
    {
     "data": {
      "text/plain": [
       "(544, 13)"
      ]
     },
     "execution_count": 4,
     "metadata": {},
     "output_type": "execute_result"
    }
   ],
   "source": [
    "# Dimensionen der Tabelle anzeigen\n",
    "immowelt.shape"
   ]
  },
  {
   "cell_type": "code",
   "execution_count": 5,
   "metadata": {},
   "outputs": [
    {
     "data": {
      "text/plain": [
       "(531, 13)"
      ]
     },
     "execution_count": 5,
     "metadata": {},
     "output_type": "execute_result"
    }
   ],
   "source": [
    "# Duplikate löschen\n",
    "immowelt.drop_duplicates(subset=['Name'], keep='first', inplace=True)\n",
    "immowelt.shape"
   ]
  },
  {
   "cell_type": "code",
   "execution_count": 6,
   "metadata": {},
   "outputs": [],
   "source": [
    "# Alle Spalten, die nicht interessieren dropen\n",
    "#immowelt = immowelt.drop(['Spaltenname', ''], axis=1)\n",
    "#immowelt.head"
   ]
  },
  {
   "cell_type": "code",
   "execution_count": 7,
   "metadata": {},
   "outputs": [],
   "source": [
    "# Bereinigung Spalte 'Wohnfläche'\n",
    "\n",
    "# teilt die Spalte 'Wohnfläche' bei m² in zwei Spalten auf\n",
    "df_wohnflaeche = immowelt['Wohnfläche'].str.split(\" m²\", n = 1, expand = True)\n",
    "\n",
    "#ersetzt die Kommas durch Punkte\n",
    "df_wohnflaeche[0] = df_wohnflaeche[0].str.replace(',','.')\n",
    "\n",
    "# weist der Spalte 'Wohnfläche' die Werte aus der ersten Spalte von 'df_wohnflaeche' zu\n",
    "immowelt['Wohnfläche'] = df_wohnflaeche[0]"
   ]
  },
  {
   "cell_type": "code",
   "execution_count": 8,
   "metadata": {},
   "outputs": [],
   "source": [
    "# Bereinigung der Spalte 'Kaltmiete'\n",
    "\n",
    "# teilt die Spalte 'Kaltmiete' bei € in zwei Spalten auf\n",
    "df_kaltmiete = immowelt['Kaltmiete'].str.split(\"€\", n = 1, expand = True)\n",
    "\n",
    "# entfernt die Punkte, Tausenderdezimalstelle trennt\n",
    "df_kaltmiete[0] = df_kaltmiete[0].str.replace('.','')\n",
    "\n",
    "# ersetzt die Kommas durch Punkte\n",
    "df_kaltmiete[0] = df_kaltmiete[0].str.replace(',','.')\n",
    "\n",
    "# weist der Spalte 'Kaltmiete' die Werte aus der ersten Spalte von 'df_kaltmiete' zu\n",
    "immowelt['Kaltmiete'] = df_kaltmiete[0]"
   ]
  },
  {
   "cell_type": "code",
   "execution_count": 9,
   "metadata": {},
   "outputs": [],
   "source": [
    "# Bereinigung der Spalte 'Warmmiete'\n",
    "df_warmmiete = immowelt['Warmmiete'].str.split(\"€\", n = 1, expand = True)\n",
    "df_warmmiete[0] = df_warmmiete[0].str.replace('.','')\n",
    "df_warmmiete[0] = df_warmmiete[0].str.replace(',','.')\n",
    "immowelt['Warmmiete'] = df_warmmiete[0]"
   ]
  },
  {
   "cell_type": "code",
   "execution_count": 10,
   "metadata": {},
   "outputs": [],
   "source": [
    "# Bereinigung der Spalte 'Zimmer'\n",
    "df_zimmer = immowelt['Zimmer'].str.split(\",\", n = 1, expand = True)\n",
    "df_zimmer[0] = df_zimmer[0].str.replace('_','.')\n",
    "immowelt['Zimmer'] = df_zimmer[0]"
   ]
  },
  {
   "cell_type": "code",
   "execution_count": 11,
   "metadata": {
    "scrolled": true
   },
   "outputs": [],
   "source": [
    "# Bereinigung der Spalte 'Baujahr'\n",
    "\n",
    "# Entfernt diejenigen Daten aus dem Datensatz, die kein Baujahr enthalten\n",
    "immowelt = immowelt[immowelt['Baujahr'].str.contains('Bau', na=False)]\n",
    "df_baujahr = immowelt['Baujahr'].str.split(\" \", n = 1, expand = True)\n",
    "\n",
    "# weist der Spalte 'Baujahr' die Werte aus der zweiten Spalte von df_baujahr zu\n",
    "immowelt['Baujahr'] = df_baujahr[1]"
   ]
  },
  {
   "cell_type": "code",
   "execution_count": 12,
   "metadata": {
    "scrolled": true
   },
   "outputs": [],
   "source": [
    "#Bereinigung der Spalte 'Standort'\n",
    "\n",
    "# Entfernt diejenigen Daten aus dem Datensatz, die keine Standortangaben enthalten\n",
    "immowelt = immowelt[immowelt['Standort'].str.contains('Berl', na=False)]\n",
    "df_standort = immowelt['Standort'].str.split(\" \", n = 2, expand = True)\n",
    "\n",
    "# Neue Spalte Postleitzahl wird hinzugefügt\n",
    "immowelt['PLZ'] = df_standort[1]"
   ]
  },
  {
   "cell_type": "code",
   "execution_count": 13,
   "metadata": {},
   "outputs": [
    {
     "data": {
      "text/html": [
       "<div>\n",
       "<style scoped>\n",
       "    .dataframe tbody tr th:only-of-type {\n",
       "        vertical-align: middle;\n",
       "    }\n",
       "\n",
       "    .dataframe tbody tr th {\n",
       "        vertical-align: top;\n",
       "    }\n",
       "\n",
       "    .dataframe thead th {\n",
       "        text-align: right;\n",
       "    }\n",
       "</style>\n",
       "<table border=\"1\" class=\"dataframe\">\n",
       "  <thead>\n",
       "    <tr style=\"text-align: right;\">\n",
       "      <th></th>\n",
       "      <th>Count</th>\n",
       "      <th>ID</th>\n",
       "      <th>Name</th>\n",
       "      <th>Standort</th>\n",
       "      <th>Kaltmiete</th>\n",
       "      <th>Warmmiete</th>\n",
       "      <th>Wohnfläche</th>\n",
       "      <th>Zimmer</th>\n",
       "      <th>Baujahr</th>\n",
       "      <th>Merkmale</th>\n",
       "      <th>Features</th>\n",
       "      <th>Beschreibung</th>\n",
       "      <th>Lage</th>\n",
       "      <th>PLZ</th>\n",
       "      <th>Balkon</th>\n",
       "    </tr>\n",
       "  </thead>\n",
       "  <tbody>\n",
       "    <tr>\n",
       "      <th>0</th>\n",
       "      <td>0</td>\n",
       "      <td>Online-ID: 2Z46947, Referenznummer: 10-00855-...</td>\n",
       "      <td>Günstige 1-Wohnung mit WBS | Etagenwohnung Ber...</td>\n",
       "      <td>13435 Berlin (Märkisches Viertel), Senftenber...</td>\n",
       "      <td>262.02</td>\n",
       "      <td>386.64</td>\n",
       "      <td>40.31</td>\n",
       "      <td>1</td>\n",
       "      <td>2021</td>\n",
       "      <td>Balkon, Kelleranteil, barrierefrei, Personenau...</td>\n",
       "      <td>&lt;li _ngcontent-serverapp-c66=\"\" class=\"ng-star...</td>\n",
       "      <td>Bei den sechs Gebäuden handelt es sich um paar...</td>\n",
       "      <td>Insgesamt sind mehrere Spiel- und Sportbereich...</td>\n",
       "      <td>13435</td>\n",
       "      <td>True</td>\n",
       "    </tr>\n",
       "    <tr>\n",
       "      <th>1</th>\n",
       "      <td>1</td>\n",
       "      <td>Online-ID: 2TT4E4T</td>\n",
       "      <td>Komfortable Studentenapartments in Oberschönew...</td>\n",
       "      <td>12459 Berlin (Oberschöneweide), Reinbeckstraß...</td>\n",
       "      <td>268</td>\n",
       "      <td>325</td>\n",
       "      <td>15</td>\n",
       "      <td>1</td>\n",
       "      <td>2012</td>\n",
       "      <td>Balkon, Gartenmitbenutzung, Zentralheizung</td>\n",
       "      <td>&lt;li _ngcontent-serverapp-c66=\"\" class=\"ng-star...</td>\n",
       "      <td>In unserem komfortablen Studentenwohnhaus mit ...</td>\n",
       "      <td>In ruhiger Seitenstraße in Berlin-Oberschönewe...</td>\n",
       "      <td>12459</td>\n",
       "      <td>True</td>\n",
       "    </tr>\n",
       "    <tr>\n",
       "      <th>2</th>\n",
       "      <td>2</td>\n",
       "      <td>Online-ID: 2ZZ5947, Referenznummer: 10-00855-...</td>\n",
       "      <td>Seniorengerechte 1-Zimmer-Wohnung im Erstbezug...</td>\n",
       "      <td>13435 Berlin (Märkisches Viertel), Senftenber...</td>\n",
       "      <td>278.66</td>\n",
       "      <td>410.94</td>\n",
       "      <td>42.87</td>\n",
       "      <td>1</td>\n",
       "      <td>2021</td>\n",
       "      <td>Balkon, Kelleranteil, barrierefrei, seniorenge...</td>\n",
       "      <td>&lt;li _ngcontent-serverapp-c66=\"\" class=\"ng-star...</td>\n",
       "      <td>Bei den sechs Gebäuden handelt es sich um paar...</td>\n",
       "      <td>Insgesamt sind mehrere Spiel- und Sportbereich...</td>\n",
       "      <td>13435</td>\n",
       "      <td>True</td>\n",
       "    </tr>\n",
       "    <tr>\n",
       "      <th>3</th>\n",
       "      <td>3</td>\n",
       "      <td>Online-ID: 2YQU24V</td>\n",
       "      <td>Die Einbauküche ist schon drin - Sie müssen nu...</td>\n",
       "      <td>10117 Berlin (Mitte)</td>\n",
       "      <td>284.62</td>\n",
       "      <td>398</td>\n",
       "      <td>18</td>\n",
       "      <td>1</td>\n",
       "      <td>2018</td>\n",
       "      <td>Einbauküche, WG geeignet, Neubau</td>\n",
       "      <td>&lt;li _ngcontent-serverapp-c66=\"\" class=\"ng-star...</td>\n",
       "      <td>Warmmiete 398,00 Euro inkl.:,- STROM,- WLAN,- ...</td>\n",
       "      <td>Die S-Bahn erreichen Sie in 5 Gehminuten.</td>\n",
       "      <td>10117</td>\n",
       "      <td>False</td>\n",
       "    </tr>\n",
       "    <tr>\n",
       "      <th>4</th>\n",
       "      <td>4</td>\n",
       "      <td>Online-ID: 2YKNJ4Y</td>\n",
       "      <td>3 Zimmer in einer WG zu vermieten - Szenekiez ...</td>\n",
       "      <td>12053 Berlin (Neukölln), Neckarstr. 21b</td>\n",
       "      <td>350</td>\n",
       "      <td>485</td>\n",
       "      <td>13</td>\n",
       "      <td>1</td>\n",
       "      <td>1936</td>\n",
       "      <td>Balkon, Gartenmitbenutzung, Kelleranteil, sani...</td>\n",
       "      <td>&lt;li _ngcontent-serverapp-c66=\"\" class=\"ng-star...</td>\n",
       "      <td>Zur Vermietung steht eine gemütliche und sanie...</td>\n",
       "      <td>Im Zentrum eines Szenekiezes in Neukölln,Der K...</td>\n",
       "      <td>12053</td>\n",
       "      <td>True</td>\n",
       "    </tr>\n",
       "  </tbody>\n",
       "</table>\n",
       "</div>"
      ],
      "text/plain": [
       "   Count                                                 ID  \\\n",
       "0      0   Online-ID: 2Z46947, Referenznummer: 10-00855-...   \n",
       "1      1                                 Online-ID: 2TT4E4T   \n",
       "2      2   Online-ID: 2ZZ5947, Referenznummer: 10-00855-...   \n",
       "3      3                                 Online-ID: 2YQU24V   \n",
       "4      4                                 Online-ID: 2YKNJ4Y   \n",
       "\n",
       "                                                Name  \\\n",
       "0  Günstige 1-Wohnung mit WBS | Etagenwohnung Ber...   \n",
       "1  Komfortable Studentenapartments in Oberschönew...   \n",
       "2  Seniorengerechte 1-Zimmer-Wohnung im Erstbezug...   \n",
       "3  Die Einbauküche ist schon drin - Sie müssen nu...   \n",
       "4  3 Zimmer in einer WG zu vermieten - Szenekiez ...   \n",
       "\n",
       "                                            Standort Kaltmiete Warmmiete  \\\n",
       "0   13435 Berlin (Märkisches Viertel), Senftenber...   262.02    386.64    \n",
       "1   12459 Berlin (Oberschöneweide), Reinbeckstraß...      268       325    \n",
       "2   13435 Berlin (Märkisches Viertel), Senftenber...   278.66    410.94    \n",
       "3                              10117 Berlin (Mitte)    284.62       398    \n",
       "4           12053 Berlin (Neukölln), Neckarstr. 21b       350       485    \n",
       "\n",
       "  Wohnfläche Zimmer Baujahr  \\\n",
       "0      40.31      1    2021   \n",
       "1         15      1    2012   \n",
       "2      42.87      1    2021   \n",
       "3         18      1    2018   \n",
       "4         13      1    1936   \n",
       "\n",
       "                                            Merkmale  \\\n",
       "0  Balkon, Kelleranteil, barrierefrei, Personenau...   \n",
       "1         Balkon, Gartenmitbenutzung, Zentralheizung   \n",
       "2  Balkon, Kelleranteil, barrierefrei, seniorenge...   \n",
       "3                   Einbauküche, WG geeignet, Neubau   \n",
       "4  Balkon, Gartenmitbenutzung, Kelleranteil, sani...   \n",
       "\n",
       "                                            Features  \\\n",
       "0  <li _ngcontent-serverapp-c66=\"\" class=\"ng-star...   \n",
       "1  <li _ngcontent-serverapp-c66=\"\" class=\"ng-star...   \n",
       "2  <li _ngcontent-serverapp-c66=\"\" class=\"ng-star...   \n",
       "3  <li _ngcontent-serverapp-c66=\"\" class=\"ng-star...   \n",
       "4  <li _ngcontent-serverapp-c66=\"\" class=\"ng-star...   \n",
       "\n",
       "                                        Beschreibung  \\\n",
       "0  Bei den sechs Gebäuden handelt es sich um paar...   \n",
       "1  In unserem komfortablen Studentenwohnhaus mit ...   \n",
       "2  Bei den sechs Gebäuden handelt es sich um paar...   \n",
       "3  Warmmiete 398,00 Euro inkl.:,- STROM,- WLAN,- ...   \n",
       "4  Zur Vermietung steht eine gemütliche und sanie...   \n",
       "\n",
       "                                                Lage    PLZ  Balkon  \n",
       "0  Insgesamt sind mehrere Spiel- und Sportbereich...  13435    True  \n",
       "1  In ruhiger Seitenstraße in Berlin-Oberschönewe...  12459    True  \n",
       "2  Insgesamt sind mehrere Spiel- und Sportbereich...  13435    True  \n",
       "3          Die S-Bahn erreichen Sie in 5 Gehminuten.  10117   False  \n",
       "4  Im Zentrum eines Szenekiezes in Neukölln,Der K...  12053    True  "
      ]
     },
     "execution_count": 13,
     "metadata": {},
     "output_type": "execute_result"
    }
   ],
   "source": [
    "# Überprüfen, ob in der Spalte 'Merkmale' für jeweilige Wohnungen ein Balkon vorhanden ist\n",
    "df_Balkon = immowelt['Merkmale'].str.contains('Balkon', na=False)\n",
    "\n",
    "# Neue Spalte 'Balkon' wird hinzugefügt\n",
    "immowelt['Balkon'] = df_Balkon\n",
    "immowelt.head()"
   ]
  },
  {
   "cell_type": "code",
   "execution_count": 14,
   "metadata": {},
   "outputs": [],
   "source": [
    "# Etage in separate Spalte extrahieren??\n"
   ]
  },
  {
   "cell_type": "code",
   "execution_count": 15,
   "metadata": {},
   "outputs": [
    {
     "data": {
      "text/plain": [
       "(469, 15)"
      ]
     },
     "execution_count": 15,
     "metadata": {},
     "output_type": "execute_result"
    }
   ],
   "source": [
    "# gibt die Anzahl Zeilen und Spalten der Tabelle an\n",
    "immowelt.shape"
   ]
  },
  {
   "cell_type": "markdown",
   "metadata": {},
   "source": [
    "Um den Immowelt-Datensatz und den Yelp-Datensatz vergleichbar zu machen, müssen den Postleitzahlen die richtigen Bezirke zugeordnet werden. Obwohl hier im Immowelt-Datensatz bereits Bezirke angegeben sind, ist diese Angabe nicht konsistent mit jener des Yelp-Datensatzes. Darum werden wir Zuordnung der Bezirke mit Hilfe von Excel und einer externen Liste (siehe File \"Berlin_Zip_Codes.xls\") manuell vornehmen.\n",
    "\n",
    "Dafür speichern wir den jetzigen Stand des Datensatzes in einem CSV-File."
   ]
  },
  {
   "cell_type": "code",
   "execution_count": 16,
   "metadata": {},
   "outputs": [],
   "source": [
    "immowelt.to_csv('immowelt_bearbeitet.csv', index=False, encoding = 'utf-8-sig')"
   ]
  },
  {
   "cell_type": "code",
   "execution_count": null,
   "metadata": {},
   "outputs": [],
   "source": []
  }
 ],
 "metadata": {
  "kernelspec": {
   "display_name": "Python 3",
   "language": "python",
   "name": "python3"
  },
  "language_info": {
   "codemirror_mode": {
    "name": "ipython",
    "version": 3
   },
   "file_extension": ".py",
   "mimetype": "text/x-python",
   "name": "python",
   "nbconvert_exporter": "python",
   "pygments_lexer": "ipython3",
   "version": "3.8.5"
  }
 },
 "nbformat": 4,
 "nbformat_minor": 5
}
